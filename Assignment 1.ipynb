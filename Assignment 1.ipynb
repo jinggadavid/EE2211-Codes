{
 "cells": [
  {
   "cell_type": "markdown",
   "metadata": {},
   "source": [
    "# Assignment 1"
   ]
  },
  {
   "cell_type": "code",
   "execution_count": 14,
   "metadata": {},
   "outputs": [
    {
     "data": {
      "text/plain": [
       "(array([[ 0.0916626 ],\n",
       "        [-0.05265724]]),\n",
       " array([[ 1,  4,  5,  4,  9],\n",
       "        [ 2,  3,  6,  8, 10]]),\n",
       " array([[ 0.10385178, -0.08093613],\n",
       "        [-0.08093613,  0.06777182]]))"
      ]
     },
     "execution_count": 14,
     "metadata": {},
     "output_type": "execute_result"
    }
   ],
   "source": [
    "import numpy as np\n",
    "from numpy.linalg import inv\n",
    "\n",
    "# Please replace \"MatricNumber\" with your actual matric number here and in the filename\n",
    "def A1_A0200725U(X, y):\n",
    "    \"\"\"\n",
    "    Input type\n",
    "    :X type: numpy.ndarray\n",
    "    :y type: numpy.ndarray\n",
    "\n",
    "    Return type\n",
    "    :w type: numpy.ndarray\n",
    "    :XT type: numpy.ndarray\n",
    "    :InvXTX type: numpy.ndarray\n",
    "   \n",
    "    \"\"\"\n",
    "    # your code goes here\n",
    "    XT = X.T\n",
    "    InvXTX = inv(XT @ X)\n",
    "    w = InvXTX @ X.T @ y\n",
    "\n",
    "    # return in this order\n",
    "    return w, XT, InvXTX\n",
    "\n",
    "X = np.array([[1,2],[4,3],[5,6],[4,8],[9,10]])\n",
    "y = np.array([[-1],[0],[1],[0],[0]])\n",
    "A1_A0200725U(X, y)"
   ]
  },
  {
   "cell_type": "code",
   "execution_count": null,
   "metadata": {},
   "outputs": [],
   "source": []
  }
 ],
 "metadata": {
  "kernelspec": {
   "display_name": "Python 3",
   "language": "python",
   "name": "python3"
  },
  "language_info": {
   "codemirror_mode": {
    "name": "ipython",
    "version": 3
   },
   "file_extension": ".py",
   "mimetype": "text/x-python",
   "name": "python",
   "nbconvert_exporter": "python",
   "pygments_lexer": "ipython3",
   "version": "3.7.7"
  }
 },
 "nbformat": 4,
 "nbformat_minor": 4
}
